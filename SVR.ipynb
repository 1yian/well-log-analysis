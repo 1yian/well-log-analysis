{
 "cells": [
  {
   "cell_type": "code",
   "execution_count": 4,
   "id": "774f1dbf-7762-4db2-9382-6aa6e4d9b4df",
   "metadata": {},
   "outputs": [],
   "source": [
    "import os\n",
    "\n",
    "import numpy as np\n",
    "import pandas as pd\n",
    "import well_log_analysis.dataset\n",
    "\n",
    "import sklearn\n",
    "from sklearn.ensemble import GradientBoostingRegressor, RandomForestRegressor\n",
    "from sklearn.svm import SVR\n",
    "from sklearn.multioutput import MultiOutputRegressor\n",
    "from sklearn.preprocessing import MinMaxScaler, RobustScaler"
   ]
  },
  {
   "cell_type": "code",
   "execution_count": 5,
   "id": "fb37ea61-52f1-410d-8d31-135ae69fab53",
   "metadata": {},
   "outputs": [],
   "source": [
    "def train_test(train_wells, test_well, regressor):\n",
    "    scaler = RobustScaler()\n",
    "    train_dataset = well_log_analysis.dataset.WellDataset(train_wells[0], \n",
    "                                    ['GR', 'DEN', 'RT', 'DTCO', 'DTSM'], \n",
    "                                    ['GR', 'DEN', 'RT', 'DTCO', 'DTSM'], \n",
    "                                    sequence_length=1)\n",
    "    \n",
    "    for i in range(1, len(train_wells)):\n",
    "        train_dataset += well_log_analysis.dataset.WellDataset(train_wells[i], \n",
    "                                        ['GR', 'DEN', 'RT', 'DTCO', 'DTSM'], \n",
    "                                        ['GR', 'DEN', 'RT', 'DTCO', 'DTSM'], \n",
    "                                        sequence_length=1)\n",
    "    \n",
    "\n",
    "    data = np.concatenate([train_dataset[i] for i in range(len(train_dataset))], 0)\n",
    "    scaler.fit(data)\n",
    "    data = scaler.transform(data)\n",
    "    x, y = data[:, :3], data[:, 3:]\n",
    "    regressor.fit(x, y)\n",
    "    test_dataset = well_log_analysis.dataset.WellDataset(test_well,\n",
    "                                ['GR', 'DEN', 'RT', 'DTCO', 'DTSM'], \n",
    "                                ['GR', 'DEN', 'RT', 'DTCO', 'DTSM'], \n",
    "                                sequence_length=1)\n",
    "    \n",
    "   \n",
    "    test_data = np.concatenate([test_dataset[i] for i in range(len(test_dataset))], 0)\n",
    "    test_data = scaler.transform(test_data)\n",
    "    \n",
    "    x_test, y_test = test_data[:, :3], test_data[:, 3:]\n",
    "    prediction = regressor.predict(x_test)\n",
    "    together = np.concatenate([x_test, prediction], 1)\n",
    "    pred = scaler.inverse_transform(together)\n",
    "    return pred[:, 3:], scaler.inverse_transform(test_data)[:, 3:]\n",
    "    "
   ]
  },
  {
   "cell_type": "code",
   "execution_count": 6,
   "id": "e26cb439-142c-4c13-97fc-2da2c4ff59b4",
   "metadata": {},
   "outputs": [
    {
     "name": "stdout",
     "output_type": "stream",
     "text": [
      "Performance on data/dataset1/J10025.las\n",
      "MAPE on DTCO 0.07909612397531068\n",
      "MAPE on DTSM 0.0939065409082833\n",
      "Performance on data/dataset1/J10035.las\n",
      "MAPE on DTCO 0.07226427748510943\n",
      "MAPE on DTSM 0.11901490820414314\n",
      "Performance on data/dataset1/J10038.las\n",
      "MAPE on DTCO 0.058110514545111666\n",
      "MAPE on DTSM 0.092717180226214\n",
      "Performance on data/dataset1/J10039.las\n",
      "MAPE on DTCO 0.05814048469522709\n",
      "MAPE on DTSM 0.09103406692749977\n",
      "Performance on data/dataset1/J10051.las\n",
      "MAPE on DTCO 0.1024877480300117\n",
      "MAPE on DTSM 0.22444362431460743\n"
     ]
    }
   ],
   "source": [
    "dataset_paths = ['data/dataset1/J10025.las', 'data/dataset1/J10035.las', 'data/dataset1/J10038.las', 'data/dataset1/J10039.las', 'data/dataset1/J10051.las']\n",
    "\n",
    "\n",
    "for path in dataset_paths:\n",
    "    \n",
    "    reg = SVR()\n",
    "    multi_reg = MultiOutputRegressor(reg)\n",
    "    train_datasets = dataset_paths.copy()\n",
    "    train_datasets.remove(path)\n",
    "    \n",
    "    y_pred, y_true = train_test(train_datasets, path, multi_reg)\n",
    "    results_path = os.path.join(\"results\", os.path.splitext(os.path.basename(path))[0] + \".csv\")\n",
    "    if os.path.exists(results_path) and not os.stat(results_path).st_size == 0:\n",
    "        df = pd.read_csv(results_path, index_col=False)\n",
    "    else:\n",
    "        df = pd.DataFrame({})\n",
    "    df['GroundTruth_DTCO'] = list(y_true[:, 0])\n",
    "    df['GroundTruth_DTSM'] = list(y_true[:, 1])\n",
    "    df['SVR_DTCO'] = list(y_pred[:, 0])\n",
    "    df['SVR_DTSM'] = list(y_pred[:, 1])\n",
    "\n",
    "    df.to_csv(results_path, index=False)\n",
    "    print(\"Performance on {}\".format(path))\n",
    "    print(\"MAPE on DTCO\", sklearn.metrics.mean_absolute_percentage_error(y_true[:, 0], y_pred[:, 0]))\n",
    "    print(\"MAPE on DTSM\", sklearn.metrics.mean_absolute_percentage_error(y_true[:, 1], y_pred[:, 1]))\n"
   ]
  },
  {
   "cell_type": "code",
   "execution_count": null,
   "id": "9ae59538-cc15-4e18-a650-95fd7ba112b1",
   "metadata": {},
   "outputs": [],
   "source": []
  }
 ],
 "metadata": {
  "kernelspec": {
   "display_name": "Python 3 (ipykernel)",
   "language": "python",
   "name": "python3"
  },
  "language_info": {
   "codemirror_mode": {
    "name": "ipython",
    "version": 3
   },
   "file_extension": ".py",
   "mimetype": "text/x-python",
   "name": "python",
   "nbconvert_exporter": "python",
   "pygments_lexer": "ipython3",
   "version": "3.10.0"
  }
 },
 "nbformat": 4,
 "nbformat_minor": 5
}
