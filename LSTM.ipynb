{
 "cells": [
  {
   "cell_type": "code",
   "execution_count": 1,
   "id": "2889b115-07b8-4d65-800a-a34481b5ae83",
   "metadata": {},
   "outputs": [],
   "source": [
    "import torch\n",
    "import torch.nn as nn\n",
    "import well_log_analysis.dataset\n",
    "from torch.utils.data import DataLoader\n",
    "import numpy as np\n",
    "import sklearn\n",
    "import sklearn.metrics\n",
    "from sklearn.preprocessing import MinMaxScaler, RobustScaler"
   ]
  },
  {
   "cell_type": "code",
   "execution_count": 2,
   "id": "aeedf232-7eb5-4e26-aaa9-b8bdf7e1b5ba",
   "metadata": {},
   "outputs": [],
   "source": [
    "BATCH_SIZE = 64\n",
    "SEQUENCE_LENGTH = 16"
   ]
  },
  {
   "cell_type": "code",
   "execution_count": 3,
   "id": "9d866873-1a4c-45d0-bbc6-3f9d544a5aa1",
   "metadata": {},
   "outputs": [],
   "source": [
    "def train_test(train_wells, test_well):\n",
    "    train_dataset = well_log_analysis.dataset.WellDataset(train_wells[0], \n",
    "                                    ['GR', 'DEN', 'RT', 'DTCO', 'DTSM'], \n",
    "                                    ['GR', 'DEN', 'RT', 'DTCO', 'DTSM'], \n",
    "                                    sequence_length=SEQUENCE_LENGTH)\n",
    "    \n",
    "    for i in range(1, len(train_wells)):\n",
    "        train_dataset += well_log_analysis.dataset.WellDataset(train_wells[i], \n",
    "                                        ['GR', 'DEN', 'RT', 'DTCO', 'DTSM'], \n",
    "                                        ['GR', 'DEN', 'RT', 'DTCO', 'DTSM'], \n",
    "                                        sequence_length=SEQUENCE_LENGTH)\n",
    "    test_dataset = well_log_analysis.dataset.WellDataset(test_well,\n",
    "                                ['GR', 'DEN', 'RT', 'DTCO', 'DTSM'], \n",
    "                                ['GR', 'DEN', 'RT', 'DTCO', 'DTSM'], \n",
    "                                sequence_length=SEQUENCE_LENGTH)\n",
    "    return train_dataset, test_dataset"
   ]
  },
  {
   "cell_type": "code",
   "execution_count": 4,
   "id": "a216f0b7-70fc-42f6-8766-d0ae2db6b1a8",
   "metadata": {},
   "outputs": [],
   "source": [
    "dataset_paths = ['data/dataset1/J10025.las', 'data/dataset1/J10035.las', 'data/dataset1/J10039.las', 'data/dataset1/J10051.las', 'data/dataset1/J10038.las']\n",
    "train_dataset, test_dataset = train_test(dataset_paths[:-1], dataset_paths[-1])\n",
    "train_loader = DataLoader(train_dataset, batch_size = BATCH_SIZE, drop_last=True, shuffle=True)\n",
    "test_loader = DataLoader(test_dataset, batch_size = 1, shuffle=False)"
   ]
  },
  {
   "cell_type": "code",
   "execution_count": 5,
   "id": "5b9b0a40-8055-4243-be8e-0ce7e5f5521a",
   "metadata": {},
   "outputs": [],
   "source": [
    "scaler = RobustScaler()\n",
    "train_dataset.copy_df = train_dataset.df.copy()\n",
    "train_dataset.df[train_dataset.return_sites] = scaler.fit_transform(train_dataset.df[train_dataset.return_sites])"
   ]
  },
  {
   "cell_type": "code",
   "execution_count": 33,
   "id": "2ff8dbc9-ffcd-495b-b6e9-ecc6ffe36203",
   "metadata": {},
   "outputs": [],
   "source": [
    "class LSTMModel(nn.Module):\n",
    "    def __init__(self, in_size, out_size):\n",
    "        super().__init__()\n",
    "        self.num_layers = 3\n",
    "        self.hidden_units = 32\n",
    "        self.fc1 = nn.Linear(3, 32)\n",
    "        self.lstm = nn.LSTM(32, self.hidden_units, self.num_layers, dropout=0.3, batch_first=True)\n",
    "        self.fc2 = nn.Linear(self.hidden_units, 2)\n",
    "        self.relu = nn.ReLU()\n",
    "        \n",
    "    def forward(self, x):\n",
    "        x = self.fc1(x)\n",
    "        x = self.relu(x)\n",
    "        batch_size = x.shape[0]\n",
    "        h0 = torch.zeros(self.num_layers, batch_size, self.hidden_units).requires_grad_()\n",
    "        c0 = torch.zeros(self.num_layers, batch_size, self.hidden_units).requires_grad_()\n",
    "        x, (_, _) = self.lstm(x, (h0, c0))\n",
    "        x = self.fc2(x)\n",
    "        return x"
   ]
  },
  {
   "cell_type": "code",
   "execution_count": 34,
   "id": "d7910b74-d538-4750-9237-2f9864e0db44",
   "metadata": {},
   "outputs": [],
   "source": [
    "model = LSTMModel(3, 2)\n",
    "optim = torch.optim.Adam(model.parameters(), weight_decay=1e-4)"
   ]
  },
  {
   "cell_type": "code",
   "execution_count": 35,
   "id": "fac335a1-5878-4fbf-8cf3-4f592fa05014",
   "metadata": {
    "tags": []
   },
   "outputs": [
    {
     "name": "stdout",
     "output_type": "stream",
     "text": [
      "MAPE 0.068038605\n",
      "MAPE 0.049532566\n",
      "MAPE 0.053010453\n",
      "MAPE 0.04765175\n",
      "MAPE 0.04736973\n",
      "MAPE 0.051493946\n",
      "MAPE 0.044476338\n",
      "MAPE 0.044518277\n",
      "MAPE 0.04814416\n",
      "MAPE 0.044971272\n",
      "MAPE 0.048812293\n",
      "MAPE 0.047479782\n",
      "MAPE 0.04563415\n",
      "MAPE 0.047763757\n",
      "MAPE 0.045397338\n",
      "MAPE 0.044219\n",
      "MAPE 0.048108775\n",
      "MAPE 0.045504898\n",
      "MAPE 0.044788312\n",
      "MAPE 0.046990328\n",
      "MAPE 0.043205343\n",
      "MAPE 0.04786\n",
      "MAPE 0.042445175\n",
      "MAPE 0.040494047\n",
      "MAPE 0.043983266\n",
      "MAPE 0.04244338\n",
      "MAPE 0.0405328\n",
      "MAPE 0.038328588\n",
      "MAPE 0.04422425\n",
      "MAPE 0.045477454\n",
      "MAPE 0.04174903\n",
      "MAPE 0.03831494\n",
      "MAPE 0.043692186\n",
      "MAPE 0.041283272\n",
      "MAPE 0.041145086\n",
      "MAPE 0.038506214\n",
      "MAPE 0.039490063\n",
      "MAPE 0.04315701\n",
      "MAPE 0.04215993\n",
      "MAPE 0.042076193\n",
      "MAPE 0.039695658\n",
      "MAPE 0.03943569\n",
      "MAPE 0.039968736\n",
      "MAPE 0.039037365\n",
      "MAPE 0.040812816\n",
      "MAPE 0.041002125\n",
      "MAPE 0.042678267\n",
      "MAPE 0.038464032\n",
      "MAPE 0.041455656\n",
      "MAPE 0.03751525\n"
     ]
    }
   ],
   "source": [
    "for epoch in range(50):\n",
    "    total = []\n",
    "    all_inp = []\n",
    "    all_pred = []\n",
    "    for batch in train_loader:\n",
    "        optim.zero_grad()\n",
    "        inp, out = batch[:, :, :3].float(), batch[:, :, 3:].float()\n",
    "        prediction = model(inp)\n",
    "        loss = nn.SmoothL1Loss()(out, prediction)\n",
    "        total.append(loss.detach().clone().cpu())\n",
    "        loss.backward()\n",
    "        optim.step()\n",
    "        all_inp += [prediction[:, i, :].detach().clone().cpu() for i in range(len(out[0]))]\n",
    "        all_pred += [out[:, i, :] for i in range(len(out[0]))]\n",
    "    #print(\"LOSS\", np.mean(total))\n",
    "    all_inp = torch.stack(all_inp)[:, 0]\n",
    "    all_inp = torch.concat([torch.zeros(all_inp.shape[0], 3), all_inp], axis=1).detach().numpy()\n",
    "    all_pred = torch.stack(all_pred)[:, 0]\n",
    "    all_pred = torch.concat([torch.zeros(all_pred.shape[0], 3), all_pred], axis=1).detach().numpy()\n",
    "    \n",
    "    true = scaler.inverse_transform(all_inp)[:, 3]\n",
    "    pred = scaler.inverse_transform(all_pred)[:, 3]\n",
    "    \n",
    "    print(\"MAPE\", sklearn.metrics.mean_absolute_percentage_error(true, pred))"
   ]
  },
  {
   "cell_type": "code",
   "execution_count": null,
   "id": "1610660d-e5b8-4577-8b9f-0e71a05e4eb7",
   "metadata": {},
   "outputs": [],
   "source": [
    "import matplotlib.pyplot as plt\n",
    "plt.figure(figsize=(7, 25))\n",
    "plt.plot(true, range(len(true)), color='blue', linewidth=0.5, label=\"Ground Truth DTSM\")\n",
    "plt.plot(pred, range(len(pred)), color='red', linewidth=0.5, label=\"Predicted DTSM\")"
   ]
  },
  {
   "cell_type": "code",
   "execution_count": null,
   "id": "e72ade45-057b-4540-a7d5-30e886d80223",
   "metadata": {},
   "outputs": [],
   "source": []
  }
 ],
 "metadata": {
  "kernelspec": {
   "display_name": "Python 3 (ipykernel)",
   "language": "python",
   "name": "python3"
  },
  "language_info": {
   "codemirror_mode": {
    "name": "ipython",
    "version": 3
   },
   "file_extension": ".py",
   "mimetype": "text/x-python",
   "name": "python",
   "nbconvert_exporter": "python",
   "pygments_lexer": "ipython3",
   "version": "3.10.0"
  }
 },
 "nbformat": 4,
 "nbformat_minor": 5
}
