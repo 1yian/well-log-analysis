{
 "cells": [
  {
   "cell_type": "code",
   "execution_count": 23,
   "id": "8999559d-2bfd-4815-86ab-266a36066460",
   "metadata": {},
   "outputs": [],
   "source": [
    "import torch\n",
    "import torch.nn as nn\n",
    "\n",
    "import well_log_analysis.dataset\n",
    "from torch.utils.data import DataLoader\n",
    "\n",
    "import numpy as np\n",
    "import sklearn\n",
    "import sklearn.metrics\n",
    "\n",
    "from sklearn.preprocessing import MinMaxScaler, RobustScaler"
   ]
  },
  {
   "cell_type": "code",
   "execution_count": 24,
   "id": "a6040477-c551-44ac-a6f0-0049ba21abe4",
   "metadata": {},
   "outputs": [],
   "source": [
    "BATCH_SIZE = 32\n",
    "SEQUENCE_LENGTH = 32\n",
    "NUM_EPOCHS = 1"
   ]
  },
  {
   "cell_type": "code",
   "execution_count": 25,
   "id": "6d6d45eb-f4a5-4d3c-8767-eb46fafcca52",
   "metadata": {},
   "outputs": [],
   "source": [
    "def train_test(train_wells, test_well):\n",
    "    train_dataset = well_log_analysis.dataset.WellDataset(train_wells[0], \n",
    "                                    ['GR', 'DEN', 'RT', 'DTCO', 'DTSM'], \n",
    "                                    ['GR', 'DEN', 'RT', 'DTCO', 'DTSM'], \n",
    "                                    sequence_length=SEQUENCE_LENGTH)\n",
    "    \n",
    "    for i in range(1, len(train_wells)):\n",
    "        train_dataset += well_log_analysis.dataset.WellDataset(train_wells[i], \n",
    "                                        ['GR', 'DEN', 'RT', 'DTCO', 'DTSM'], \n",
    "                                        ['GR', 'DEN', 'RT', 'DTCO', 'DTSM'], \n",
    "                                        sequence_length=SEQUENCE_LENGTH)\n",
    "    test_dataset = well_log_analysis.dataset.WellDataset(test_well,\n",
    "                                ['GR', 'DEN', 'RT', 'DTCO', 'DTSM'], \n",
    "                                ['GR', 'DEN', 'RT', 'DTCO', 'DTSM'], \n",
    "                                sequence_length=SEQUENCE_LENGTH)\n",
    "    return train_dataset, test_dataset"
   ]
  },
  {
   "cell_type": "code",
   "execution_count": 26,
   "id": "faa2e7b9-2481-4655-baca-173b2cb32a39",
   "metadata": {},
   "outputs": [],
   "source": [
    "class LSTMModel(nn.Module):\n",
    "    def __init__(self, in_size, out_size, dropout=0.5, hidden_units=64, num_rnn_layers=4):\n",
    "        super().__init__()\n",
    "        self.num_layers = num_rnn_layers\n",
    "        self.hidden_units = hidden_units\n",
    "        self.fc1 = nn.Linear(3, 32)\n",
    "        self.lstm = nn.LSTM(32, self.hidden_units, self.num_layers, dropout=dropout, batch_first=True)\n",
    "        self.fc2 = nn.Linear(self.hidden_units, 2)\n",
    "        self.relu = nn.ReLU()\n",
    "        \n",
    "    def forward(self, x):\n",
    "        x = self.fc1(x)\n",
    "        x = self.relu(x)\n",
    "        batch_size = x.shape[0]\n",
    "        h0 = torch.zeros(self.num_layers, batch_size, self.hidden_units).requires_grad_()\n",
    "        c0 = torch.zeros(self.num_layers, batch_size, self.hidden_units).requires_grad_()\n",
    "        x, (_, _) = self.lstm(x, (h0, c0))\n",
    "        x = self.fc2(x)\n",
    "        return x"
   ]
  },
  {
   "cell_type": "code",
   "execution_count": 33,
   "id": "9c6d5769-1415-4374-b20d-555d44c5c347",
   "metadata": {},
   "outputs": [],
   "source": [
    "def experiment(train_wells, test_well):\n",
    "    train_dataset, test_dataset = train_test(train_wells, test_well)\n",
    "    scaler = RobustScaler()\n",
    "    \n",
    "    train_dataset.copy_df = train_dataset.df.copy()\n",
    "    train_dataset.df[train_dataset.return_sites] = scaler.fit_transform(train_dataset.df[train_dataset.return_sites])\n",
    "    \n",
    "    test_dataset.copy_df = train_dataset.df.copy()\n",
    "    test_dataset.df[test_dataset.return_sites] = scaler.transform(test_dataset.df[train_dataset.return_sites])\n",
    "    \n",
    "    model = LSTMModel(3, 2)\n",
    "    optim = torch.optim.Adam(model.parameters(), weight_decay=1e-4)\n",
    "    \n",
    "    train_loader = DataLoader(train_dataset, batch_size = BATCH_SIZE, drop_last=True, shuffle=True)\n",
    "    test_loader = DataLoader(test_dataset, batch_size = 64)\n",
    "    for epoch in range(NUM_EPOCHS):\n",
    "        total_losses = []\n",
    "        for batch in train_loader:\n",
    "            optim.zero_grad()\n",
    "            \n",
    "            x, y = batch[:, :, :3].float(), batch[:, :, 3:].float()\n",
    "            \n",
    "            pred = model(x)\n",
    "            \n",
    "            loss = nn.SmoothL1Loss()(y, pred)\n",
    "            total_losses.append(loss.detach().clone().cpu())\n",
    "            \n",
    "            loss.backward()\n",
    "            optim.step()\n",
    "            \n",
    "        print(\"Epoch {}: {}\".format(epoch, np.mean(total_losses)))\n",
    "        \n",
    "    model.eval()\n",
    "    ground_truth = []\n",
    "    preds = []\n",
    "    \n",
    "    for batch in test_loader:\n",
    "        x, y = batch[:, :, :3].float(), batch[:, :, 3:].float()\n",
    "        pred = model(x)\n",
    "        ground_truth.append(y[:, -1, :])\n",
    "        preds.append(pred[:, -1, :])\n",
    "        \n",
    "    ground_truth = torch.stack(ground_truth)[:, 0]\n",
    "    preds = torch.stack(preds)[:, 0]\n",
    "    print(ground_truth.shape, preds.shape)\n",
    "    \n",
    "    \n",
    "        "
   ]
  },
  {
   "cell_type": "code",
   "execution_count": null,
   "id": "9347d021-a3a7-4e1d-a039-3985c34c9345",
   "metadata": {},
   "outputs": [],
   "source": [
    "dataset_paths = ['data/dataset1/J10025.las', 'data/dataset1/J10035.las', 'data/dataset1/J10038.las', 'data/dataset1/J10039.las', 'data/dataset1/J10051.las']\n",
    "\n",
    "\n",
    "for path in dataset_paths:\n",
    "    train_datasets = dataset_paths.copy()\n",
    "    train_datasets.remove(path)\n",
    "    experiment(train_datasets, path)"
   ]
  },
  {
   "cell_type": "code",
   "execution_count": null,
   "id": "ee2e2518-d4e3-4f37-b189-498d8442c4c1",
   "metadata": {},
   "outputs": [],
   "source": []
  }
 ],
 "metadata": {
  "kernelspec": {
   "display_name": "Python 3 (ipykernel)",
   "language": "python",
   "name": "python3"
  },
  "language_info": {
   "codemirror_mode": {
    "name": "ipython",
    "version": 3
   },
   "file_extension": ".py",
   "mimetype": "text/x-python",
   "name": "python",
   "nbconvert_exporter": "python",
   "pygments_lexer": "ipython3",
   "version": "3.10.0"
  }
 },
 "nbformat": 4,
 "nbformat_minor": 5
}
